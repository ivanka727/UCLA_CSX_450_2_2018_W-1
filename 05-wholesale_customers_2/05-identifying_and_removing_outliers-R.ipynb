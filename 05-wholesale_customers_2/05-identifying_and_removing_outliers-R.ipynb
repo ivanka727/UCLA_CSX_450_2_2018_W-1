{
 "cells": [
  {
   "cell_type": "markdown",
   "metadata": {},
   "source": [
    "# Identifying and Removing Outliers"
   ]
  },
  {
   "cell_type": "markdown",
   "metadata": {},
   "source": [
    "To identify outliers in the data, we will use what is [the Tukey Method](http://datapigtechnologies.com/blog/index.php/highlighting-outliers-in-your-data-with-the-tukey-method/). \n",
    "\n",
    "This means that we will look for points that are more than 1.5 times the Inter-quartile range above the third quartile or below the first quartile."
   ]
  },
  {
   "cell_type": "code",
   "execution_count": 1,
   "metadata": {},
   "outputs": [
    {
     "data": {
      "text/html": [
       "<ol class=list-inline>\n",
       "\t<li>440</li>\n",
       "\t<li>6</li>\n",
       "</ol>\n"
      ],
      "text/latex": [
       "\\begin{enumerate*}\n",
       "\\item 440\n",
       "\\item 6\n",
       "\\end{enumerate*}\n"
      ],
      "text/markdown": [
       "1. 440\n",
       "2. 6\n",
       "\n",
       "\n"
      ],
      "text/plain": [
       "[1] 440   6"
      ]
     },
     "metadata": {},
     "output_type": "display_data"
    }
   ],
   "source": [
    "customer_df = read.csv('Wholesale_customers_data.csv')\n",
    "customer_df$Channel <- NULL\n",
    "customer_df$Region <- NULL\n",
    "dim(customer_df)"
   ]
  },
  {
   "cell_type": "code",
   "execution_count": 2,
   "metadata": {},
   "outputs": [],
   "source": [
    "customer_log_df = log(customer_df)\n",
    "customer_log_sc_df = data.frame(scale(customer_log_df))"
   ]
  },
  {
   "cell_type": "code",
   "execution_count": 3,
   "metadata": {},
   "outputs": [],
   "source": [
    "display_outliers <- function (dataframe, feature, param=1.5) {\n",
    "    feature_vec =  as.vector(dataframe[[feature]])\n",
    "    Q1 <- quantile(feature_vec, .25)\n",
    "    Q3 <- quantile(feature_vec, .75)\n",
    "    tukey_window <- param*(Q3-Q1)\n",
    "    less_than_Q1 <- dataframe[[feature]] < Q1 - tukey_window\n",
    "    greater_than_Q3 <- dataframe[[feature]] > Q3 + tukey_window\n",
    "    tukey_mask <- (less_than_Q1 | greater_than_Q3)\n",
    "    return(dataframe[tukey_mask,])\n",
    "}"
   ]
  },
  {
   "cell_type": "code",
   "execution_count": 4,
   "metadata": {},
   "outputs": [
    {
     "data": {
      "text/html": [
       "<table>\n",
       "<thead><tr><th></th><th scope=col>Fresh</th><th scope=col>Milk</th><th scope=col>Grocery</th><th scope=col>Frozen</th><th scope=col>Detergents_Paper</th><th scope=col>Delicatessen</th></tr></thead>\n",
       "<tbody>\n",
       "\t<tr><th scope=row>76</th><td> 0.8058045</td><td>-1.003267 </td><td>-6.578339 </td><td> 0.8482054</td><td>-3.304645 </td><td> 0.165776 </td></tr>\n",
       "\t<tr><th scope=row>155</th><td>-1.5523603</td><td>-3.804185 </td><td>-3.154701 </td><td>-2.3229387</td><td>-2.812321 </td><td>-3.498307 </td></tr>\n",
       "</tbody>\n",
       "</table>\n"
      ],
      "text/latex": [
       "\\begin{tabular}{r|llllll}\n",
       "  & Fresh & Milk & Grocery & Frozen & Detergents\\_Paper & Delicatessen\\\\\n",
       "\\hline\n",
       "\t76 &  0.8058045 & -1.003267  & -6.578339  &  0.8482054 & -3.304645  &  0.165776 \\\\\n",
       "\t155 & -1.5523603 & -3.804185  & -3.154701  & -2.3229387 & -2.812321  & -3.498307 \\\\\n",
       "\\end{tabular}\n"
      ],
      "text/markdown": [
       "\n",
       "| <!--/--> | Fresh | Milk | Grocery | Frozen | Detergents_Paper | Delicatessen | \n",
       "|---|---|\n",
       "| 76 |  0.8058045 | -1.003267  | -6.578339  |  0.8482054 | -3.304645  |  0.165776  | \n",
       "| 155 | -1.5523603 | -3.804185  | -3.154701  | -2.3229387 | -2.812321  | -3.498307  | \n",
       "\n",
       "\n"
      ],
      "text/plain": [
       "    Fresh      Milk      Grocery   Frozen     Detergents_Paper Delicatessen\n",
       "76   0.8058045 -1.003267 -6.578339  0.8482054 -3.304645         0.165776   \n",
       "155 -1.5523603 -3.804185 -3.154701 -2.3229387 -2.812321        -3.498307   "
      ]
     },
     "metadata": {},
     "output_type": "display_data"
    }
   ],
   "source": [
    "display_outliers(customer_log_sc_df, 'Grocery')"
   ]
  },
  {
   "cell_type": "code",
   "execution_count": 5,
   "metadata": {},
   "outputs": [
    {
     "data": {
      "text/html": [
       "<table>\n",
       "<thead><tr><th></th><th scope=col>Fresh</th><th scope=col>Milk</th><th scope=col>Grocery</th><th scope=col>Frozen</th><th scope=col>Detergents_Paper</th><th scope=col>Delicatessen</th></tr></thead>\n",
       "<tbody>\n",
       "\t<tr><th scope=row>87</th><td> 0.8847136</td><td> 2.851919 </td><td> 1.734391 </td><td>-0.3166314</td><td> 1.813465 </td><td> 0.1072521</td></tr>\n",
       "\t<tr><th scope=row>99</th><td>-1.6958330</td><td>-3.146530 </td><td>-1.598717 </td><td>-0.3928037</td><td>-1.604060 </td><td>-1.3596950</td></tr>\n",
       "\t<tr><th scope=row>155</th><td>-1.5523603</td><td>-3.804185 </td><td>-3.154701 </td><td>-2.3229387</td><td>-2.812321 </td><td>-3.4983071</td></tr>\n",
       "\t<tr><th scope=row>357</th><td> 0.8776329</td><td>-2.980683 </td><td>-2.738534 </td><td> 0.5885233</td><td>-2.666295 </td><td>-0.2737634</td></tr>\n",
       "</tbody>\n",
       "</table>\n"
      ],
      "text/latex": [
       "\\begin{tabular}{r|llllll}\n",
       "  & Fresh & Milk & Grocery & Frozen & Detergents\\_Paper & Delicatessen\\\\\n",
       "\\hline\n",
       "\t87 &  0.8847136 &  2.851919  &  1.734391  & -0.3166314 &  1.813465  &  0.1072521\\\\\n",
       "\t99 & -1.6958330 & -3.146530  & -1.598717  & -0.3928037 & -1.604060  & -1.3596950\\\\\n",
       "\t155 & -1.5523603 & -3.804185  & -3.154701  & -2.3229387 & -2.812321  & -3.4983071\\\\\n",
       "\t357 &  0.8776329 & -2.980683  & -2.738534  &  0.5885233 & -2.666295  & -0.2737634\\\\\n",
       "\\end{tabular}\n"
      ],
      "text/markdown": [
       "\n",
       "| <!--/--> | Fresh | Milk | Grocery | Frozen | Detergents_Paper | Delicatessen | \n",
       "|---|---|---|---|\n",
       "| 87 |  0.8847136 |  2.851919  |  1.734391  | -0.3166314 |  1.813465  |  0.1072521 | \n",
       "| 99 | -1.6958330 | -3.146530  | -1.598717  | -0.3928037 | -1.604060  | -1.3596950 | \n",
       "| 155 | -1.5523603 | -3.804185  | -3.154701  | -2.3229387 | -2.812321  | -3.4983071 | \n",
       "| 357 |  0.8776329 | -2.980683  | -2.738534  |  0.5885233 | -2.666295  | -0.2737634 | \n",
       "\n",
       "\n"
      ],
      "text/plain": [
       "    Fresh      Milk      Grocery   Frozen     Detergents_Paper Delicatessen\n",
       "87   0.8847136  2.851919  1.734391 -0.3166314  1.813465         0.1072521  \n",
       "99  -1.6958330 -3.146530 -1.598717 -0.3928037 -1.604060        -1.3596950  \n",
       "155 -1.5523603 -3.804185 -3.154701 -2.3229387 -2.812321        -3.4983071  \n",
       "357  0.8776329 -2.980683 -2.738534  0.5885233 -2.666295        -0.2737634  "
      ]
     },
     "metadata": {},
     "output_type": "display_data"
    }
   ],
   "source": [
    "display_outliers(customer_log_sc_df, 'Milk')"
   ]
  },
  {
   "cell_type": "code",
   "execution_count": 6,
   "metadata": {},
   "outputs": [
    {
     "name": "stdout",
     "output_type": "stream",
     "text": [
      "[1] \"Fresh 16\"\n",
      "[1] \"Milk 4\"\n",
      "[1] \"Grocery 2\"\n",
      "[1] \"Frozen 10\"\n",
      "[1] \"Detergents_Paper 2\"\n",
      "[1] \"Delicatessen 14\"\n"
     ]
    }
   ],
   "source": [
    "for (feature in colnames(customer_log_sc_df)){\n",
    "    outlier_count = dim(display_outliers(customer_log_sc_df, feature))[1]\n",
    "    print(paste(feature, outlier_count))\n",
    "}"
   ]
  },
  {
   "cell_type": "markdown",
   "metadata": {},
   "source": [
    "What if we count the rows that show up as an outlier more than once?"
   ]
  },
  {
   "cell_type": "code",
   "execution_count": 7,
   "metadata": {},
   "outputs": [
    {
     "data": {
      "text/html": [
       "<ol class=list-inline>\n",
       "\t<li>'66'</li>\n",
       "\t<li>'67'</li>\n",
       "\t<li>'82'</li>\n",
       "\t<li>'96'</li>\n",
       "\t<li>'97'</li>\n",
       "\t<li>'129'</li>\n",
       "\t<li>'172'</li>\n",
       "\t<li>'194'</li>\n",
       "\t<li>'219'</li>\n",
       "\t<li>'305'</li>\n",
       "\t<li>'306'</li>\n",
       "\t<li>'339'</li>\n",
       "\t<li>'354'</li>\n",
       "\t<li>'356'</li>\n",
       "\t<li>'358'</li>\n",
       "\t<li>'413'</li>\n",
       "\t<li>'87'</li>\n",
       "\t<li>'99'</li>\n",
       "\t<li>'155'</li>\n",
       "\t<li>'357'</li>\n",
       "\t<li>'76'</li>\n",
       "\t<li>'155'</li>\n",
       "\t<li>'39'</li>\n",
       "\t<li>'58'</li>\n",
       "\t<li>'66'</li>\n",
       "\t<li>'146'</li>\n",
       "\t<li>'176'</li>\n",
       "\t<li>'265'</li>\n",
       "\t<li>'326'</li>\n",
       "\t<li>'421'</li>\n",
       "\t<li>'430'</li>\n",
       "\t<li>'440'</li>\n",
       "\t<li>'76'</li>\n",
       "\t<li>'162'</li>\n",
       "\t<li>'67'</li>\n",
       "\t<li>'110'</li>\n",
       "\t<li>'129'</li>\n",
       "\t<li>'138'</li>\n",
       "\t<li>'143'</li>\n",
       "\t<li>'155'</li>\n",
       "\t<li>'184'</li>\n",
       "\t<li>'185'</li>\n",
       "\t<li>'188'</li>\n",
       "\t<li>'204'</li>\n",
       "\t<li>'234'</li>\n",
       "\t<li>'286'</li>\n",
       "\t<li>'290'</li>\n",
       "\t<li>'344'</li>\n",
       "</ol>\n"
      ],
      "text/latex": [
       "\\begin{enumerate*}\n",
       "\\item '66'\n",
       "\\item '67'\n",
       "\\item '82'\n",
       "\\item '96'\n",
       "\\item '97'\n",
       "\\item '129'\n",
       "\\item '172'\n",
       "\\item '194'\n",
       "\\item '219'\n",
       "\\item '305'\n",
       "\\item '306'\n",
       "\\item '339'\n",
       "\\item '354'\n",
       "\\item '356'\n",
       "\\item '358'\n",
       "\\item '413'\n",
       "\\item '87'\n",
       "\\item '99'\n",
       "\\item '155'\n",
       "\\item '357'\n",
       "\\item '76'\n",
       "\\item '155'\n",
       "\\item '39'\n",
       "\\item '58'\n",
       "\\item '66'\n",
       "\\item '146'\n",
       "\\item '176'\n",
       "\\item '265'\n",
       "\\item '326'\n",
       "\\item '421'\n",
       "\\item '430'\n",
       "\\item '440'\n",
       "\\item '76'\n",
       "\\item '162'\n",
       "\\item '67'\n",
       "\\item '110'\n",
       "\\item '129'\n",
       "\\item '138'\n",
       "\\item '143'\n",
       "\\item '155'\n",
       "\\item '184'\n",
       "\\item '185'\n",
       "\\item '188'\n",
       "\\item '204'\n",
       "\\item '234'\n",
       "\\item '286'\n",
       "\\item '290'\n",
       "\\item '344'\n",
       "\\end{enumerate*}\n"
      ],
      "text/markdown": [
       "1. '66'\n",
       "2. '67'\n",
       "3. '82'\n",
       "4. '96'\n",
       "5. '97'\n",
       "6. '129'\n",
       "7. '172'\n",
       "8. '194'\n",
       "9. '219'\n",
       "10. '305'\n",
       "11. '306'\n",
       "12. '339'\n",
       "13. '354'\n",
       "14. '356'\n",
       "15. '358'\n",
       "16. '413'\n",
       "17. '87'\n",
       "18. '99'\n",
       "19. '155'\n",
       "20. '357'\n",
       "21. '76'\n",
       "22. '155'\n",
       "23. '39'\n",
       "24. '58'\n",
       "25. '66'\n",
       "26. '146'\n",
       "27. '176'\n",
       "28. '265'\n",
       "29. '326'\n",
       "30. '421'\n",
       "31. '430'\n",
       "32. '440'\n",
       "33. '76'\n",
       "34. '162'\n",
       "35. '67'\n",
       "36. '110'\n",
       "37. '129'\n",
       "38. '138'\n",
       "39. '143'\n",
       "40. '155'\n",
       "41. '184'\n",
       "42. '185'\n",
       "43. '188'\n",
       "44. '204'\n",
       "45. '234'\n",
       "46. '286'\n",
       "47. '290'\n",
       "48. '344'\n",
       "\n",
       "\n"
      ],
      "text/plain": [
       " [1] \"66\"  \"67\"  \"82\"  \"96\"  \"97\"  \"129\" \"172\" \"194\" \"219\" \"305\" \"306\" \"339\"\n",
       "[13] \"354\" \"356\" \"358\" \"413\" \"87\"  \"99\"  \"155\" \"357\" \"76\"  \"155\" \"39\"  \"58\" \n",
       "[25] \"66\"  \"146\" \"176\" \"265\" \"326\" \"421\" \"430\" \"440\" \"76\"  \"162\" \"67\"  \"110\"\n",
       "[37] \"129\" \"138\" \"143\" \"155\" \"184\" \"185\" \"188\" \"204\" \"234\" \"286\" \"290\" \"344\""
      ]
     },
     "metadata": {},
     "output_type": "display_data"
    }
   ],
   "source": [
    "raw_outliers = c()\n",
    "for (feature in colnames(customer_log_sc_df)){\n",
    "    outlier_df = display_outliers(customer_log_sc_df, feature)\n",
    "    outlier_indices = rownames(outlier_df)\n",
    "    raw_outliers = c(raw_outliers, outlier_indices)\n",
    "}\n",
    "raw_outliers"
   ]
  },
  {
   "cell_type": "code",
   "execution_count": 8,
   "metadata": {},
   "outputs": [
    {
     "data": {
      "text/plain": [
       "raw_outliers\n",
       "110 129 138 143 146 155 162 172 176 184 185 188 194 204 219 234 265 286 290 305 \n",
       "  1   2   1   1   1   3   1   1   1   1   1   1   1   1   1   1   1   1   1   1 \n",
       "306 326 339 344 354 356 357 358  39 413 421 430 440  58  66  67  76  82  87  96 \n",
       "  1   1   1   1   1   1   1   1   1   1   1   1   1   1   2   2   2   1   1   1 \n",
       " 97  99 \n",
       "  1   1 "
      ]
     },
     "metadata": {},
     "output_type": "display_data"
    }
   ],
   "source": [
    "table(raw_outliers)"
   ]
  },
  {
   "cell_type": "code",
   "execution_count": 9,
   "metadata": {},
   "outputs": [
    {
     "data": {
      "text/html": [
       "<ol class=list-inline>\n",
       "\t<li>440</li>\n",
       "\t<li>6</li>\n",
       "</ol>\n"
      ],
      "text/latex": [
       "\\begin{enumerate*}\n",
       "\\item 440\n",
       "\\item 6\n",
       "\\end{enumerate*}\n"
      ],
      "text/markdown": [
       "1. 440\n",
       "2. 6\n",
       "\n",
       "\n"
      ],
      "text/plain": [
       "[1] 440   6"
      ]
     },
     "metadata": {},
     "output_type": "display_data"
    }
   ],
   "source": [
    "dim(customer_log_sc_df)"
   ]
  },
  {
   "cell_type": "code",
   "execution_count": null,
   "metadata": {},
   "outputs": [],
   "source": []
  }
 ],
 "metadata": {
  "kernelspec": {
   "display_name": "R",
   "language": "R",
   "name": "ir"
  },
  "language_info": {
   "codemirror_mode": "r",
   "file_extension": ".r",
   "mimetype": "text/x-r-source",
   "name": "R",
   "pygments_lexer": "r",
   "version": "3.3.2"
  }
 },
 "nbformat": 4,
 "nbformat_minor": 2
}
