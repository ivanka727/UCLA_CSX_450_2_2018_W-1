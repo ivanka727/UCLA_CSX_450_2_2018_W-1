{
 "cells": [
  {
   "cell_type": "code",
   "execution_count": 1,
   "metadata": {},
   "outputs": [],
   "source": [
    "source('../src/load_data.r')\n",
    "source('../src/multiplot.r')"
   ]
  },
  {
   "cell_type": "code",
   "execution_count": 2,
   "metadata": {},
   "outputs": [
    {
     "data": {
      "text/html": [
       "<ol class=list-inline>\n",
       "\t<li>1451</li>\n",
       "\t<li>80</li>\n",
       "</ol>\n"
      ],
      "text/latex": [
       "\\begin{enumerate*}\n",
       "\\item 1451\n",
       "\\item 80\n",
       "\\end{enumerate*}\n"
      ],
      "text/markdown": [
       "1. 1451\n",
       "2. 80\n",
       "\n",
       "\n"
      ],
      "text/plain": [
       "[1] 1451   80"
      ]
     },
     "metadata": {},
     "output_type": "display_data"
    }
   ],
   "source": [
    "dim(housing_df)"
   ]
  },
  {
   "cell_type": "code",
   "execution_count": 3,
   "metadata": {},
   "outputs": [
    {
     "data": {
      "text/html": [
       "<table>\n",
       "<thead><tr><th scope=col>MSSubClass</th><th scope=col>MSZoning</th><th scope=col>LotFrontage</th><th scope=col>LotArea</th><th scope=col>LotShape</th><th scope=col>LandContour</th><th scope=col>Utilities</th><th scope=col>LotConfig</th><th scope=col>LandSlope</th><th scope=col>Neighborhood</th><th scope=col>⋯</th><th scope=col>PoolArea</th><th scope=col>PoolQC</th><th scope=col>Fence</th><th scope=col>MiscFeature</th><th scope=col>MiscVal</th><th scope=col>MoSold</th><th scope=col>YrSold</th><th scope=col>SaleType</th><th scope=col>SaleCondition</th><th scope=col>SalePrice</th></tr></thead>\n",
       "<tbody>\n",
       "\t<tr><td>60     </td><td>RL     </td><td>65     </td><td> 8450  </td><td>Reg    </td><td>Lvl    </td><td>AllPub </td><td>Inside </td><td>Gtl    </td><td>CollgCr</td><td>⋯      </td><td>0      </td><td>without</td><td>without</td><td>without</td><td>  0    </td><td>2      </td><td>2008   </td><td>WD     </td><td>Normal </td><td>208500 </td></tr>\n",
       "\t<tr><td>20     </td><td>RL     </td><td>80     </td><td> 9600  </td><td>Reg    </td><td>Lvl    </td><td>AllPub </td><td>FR2    </td><td>Gtl    </td><td>Veenker</td><td>⋯      </td><td>0      </td><td>without</td><td>without</td><td>without</td><td>  0    </td><td>5      </td><td>2007   </td><td>WD     </td><td>Normal </td><td>181500 </td></tr>\n",
       "\t<tr><td>60     </td><td>RL     </td><td>68     </td><td>11250  </td><td>IR1    </td><td>Lvl    </td><td>AllPub </td><td>Inside </td><td>Gtl    </td><td>CollgCr</td><td>⋯      </td><td>0      </td><td>without</td><td>without</td><td>without</td><td>  0    </td><td>9      </td><td>2008   </td><td>WD     </td><td>Normal </td><td>223500 </td></tr>\n",
       "\t<tr><td>70     </td><td>RL     </td><td>60     </td><td> 9550  </td><td>IR1    </td><td>Lvl    </td><td>AllPub </td><td>Corner </td><td>Gtl    </td><td>Crawfor</td><td>⋯      </td><td>0      </td><td>without</td><td>without</td><td>without</td><td>  0    </td><td>2      </td><td>2006   </td><td>WD     </td><td>Abnorml</td><td>140000 </td></tr>\n",
       "\t<tr><td>60     </td><td>RL     </td><td>84     </td><td>14260  </td><td>IR1    </td><td>Lvl    </td><td>AllPub </td><td>FR2    </td><td>Gtl    </td><td>NoRidge</td><td>⋯      </td><td>0      </td><td>without</td><td>without</td><td>without</td><td>  0    </td><td>12     </td><td>2008   </td><td>WD     </td><td>Normal </td><td>250000 </td></tr>\n",
       "\t<tr><td>50     </td><td>RL     </td><td>85     </td><td>14115  </td><td>IR1    </td><td>Lvl    </td><td>AllPub </td><td>Inside </td><td>Gtl    </td><td>Mitchel</td><td>⋯      </td><td>0      </td><td>without</td><td>MnPrv  </td><td>Shed   </td><td>700    </td><td>10     </td><td>2009   </td><td>WD     </td><td>Normal </td><td>143000 </td></tr>\n",
       "</tbody>\n",
       "</table>\n"
      ],
      "text/latex": [
       "\\begin{tabular}{r|llllllllllllllllllllllllllllllllllllllllllllllllllllllllllllllllllllllllllllllll}\n",
       " MSSubClass & MSZoning & LotFrontage & LotArea & LotShape & LandContour & Utilities & LotConfig & LandSlope & Neighborhood & ⋯ & PoolArea & PoolQC & Fence & MiscFeature & MiscVal & MoSold & YrSold & SaleType & SaleCondition & SalePrice\\\\\n",
       "\\hline\n",
       "\t 60      & RL      & 65      &  8450   & Reg     & Lvl     & AllPub  & Inside  & Gtl     & CollgCr & ⋯       & 0       & without & without & without &   0     & 2       & 2008    & WD      & Normal  & 208500 \\\\\n",
       "\t 20      & RL      & 80      &  9600   & Reg     & Lvl     & AllPub  & FR2     & Gtl     & Veenker & ⋯       & 0       & without & without & without &   0     & 5       & 2007    & WD      & Normal  & 181500 \\\\\n",
       "\t 60      & RL      & 68      & 11250   & IR1     & Lvl     & AllPub  & Inside  & Gtl     & CollgCr & ⋯       & 0       & without & without & without &   0     & 9       & 2008    & WD      & Normal  & 223500 \\\\\n",
       "\t 70      & RL      & 60      &  9550   & IR1     & Lvl     & AllPub  & Corner  & Gtl     & Crawfor & ⋯       & 0       & without & without & without &   0     & 2       & 2006    & WD      & Abnorml & 140000 \\\\\n",
       "\t 60      & RL      & 84      & 14260   & IR1     & Lvl     & AllPub  & FR2     & Gtl     & NoRidge & ⋯       & 0       & without & without & without &   0     & 12      & 2008    & WD      & Normal  & 250000 \\\\\n",
       "\t 50      & RL      & 85      & 14115   & IR1     & Lvl     & AllPub  & Inside  & Gtl     & Mitchel & ⋯       & 0       & without & MnPrv   & Shed    & 700     & 10      & 2009    & WD      & Normal  & 143000 \\\\\n",
       "\\end{tabular}\n"
      ],
      "text/markdown": [
       "\n",
       "MSSubClass | MSZoning | LotFrontage | LotArea | LotShape | LandContour | Utilities | LotConfig | LandSlope | Neighborhood | ⋯ | PoolArea | PoolQC | Fence | MiscFeature | MiscVal | MoSold | YrSold | SaleType | SaleCondition | SalePrice | \n",
       "|---|---|---|---|---|---|\n",
       "| 60      | RL      | 65      |  8450   | Reg     | Lvl     | AllPub  | Inside  | Gtl     | CollgCr | ⋯       | 0       | without | without | without |   0     | 2       | 2008    | WD      | Normal  | 208500  | \n",
       "| 20      | RL      | 80      |  9600   | Reg     | Lvl     | AllPub  | FR2     | Gtl     | Veenker | ⋯       | 0       | without | without | without |   0     | 5       | 2007    | WD      | Normal  | 181500  | \n",
       "| 60      | RL      | 68      | 11250   | IR1     | Lvl     | AllPub  | Inside  | Gtl     | CollgCr | ⋯       | 0       | without | without | without |   0     | 9       | 2008    | WD      | Normal  | 223500  | \n",
       "| 70      | RL      | 60      |  9550   | IR1     | Lvl     | AllPub  | Corner  | Gtl     | Crawfor | ⋯       | 0       | without | without | without |   0     | 2       | 2006    | WD      | Abnorml | 140000  | \n",
       "| 60      | RL      | 84      | 14260   | IR1     | Lvl     | AllPub  | FR2     | Gtl     | NoRidge | ⋯       | 0       | without | without | without |   0     | 12      | 2008    | WD      | Normal  | 250000  | \n",
       "| 50      | RL      | 85      | 14115   | IR1     | Lvl     | AllPub  | Inside  | Gtl     | Mitchel | ⋯       | 0       | without | MnPrv   | Shed    | 700     | 10      | 2009    | WD      | Normal  | 143000  | \n",
       "\n",
       "\n"
      ],
      "text/plain": [
       "  MSSubClass MSZoning LotFrontage LotArea LotShape LandContour Utilities\n",
       "1 60         RL       65           8450   Reg      Lvl         AllPub   \n",
       "2 20         RL       80           9600   Reg      Lvl         AllPub   \n",
       "3 60         RL       68          11250   IR1      Lvl         AllPub   \n",
       "4 70         RL       60           9550   IR1      Lvl         AllPub   \n",
       "5 60         RL       84          14260   IR1      Lvl         AllPub   \n",
       "6 50         RL       85          14115   IR1      Lvl         AllPub   \n",
       "  LotConfig LandSlope Neighborhood ⋯ PoolArea PoolQC  Fence   MiscFeature\n",
       "1 Inside    Gtl       CollgCr      ⋯ 0        without without without    \n",
       "2 FR2       Gtl       Veenker      ⋯ 0        without without without    \n",
       "3 Inside    Gtl       CollgCr      ⋯ 0        without without without    \n",
       "4 Corner    Gtl       Crawfor      ⋯ 0        without without without    \n",
       "5 FR2       Gtl       NoRidge      ⋯ 0        without without without    \n",
       "6 Inside    Gtl       Mitchel      ⋯ 0        without MnPrv   Shed       \n",
       "  MiscVal MoSold YrSold SaleType SaleCondition SalePrice\n",
       "1   0     2      2008   WD       Normal        208500   \n",
       "2   0     5      2007   WD       Normal        181500   \n",
       "3   0     9      2008   WD       Normal        223500   \n",
       "4   0     2      2006   WD       Abnorml       140000   \n",
       "5   0     12     2008   WD       Normal        250000   \n",
       "6 700     10     2009   WD       Normal        143000   "
      ]
     },
     "metadata": {},
     "output_type": "display_data"
    }
   ],
   "source": [
    "head(housing_df)"
   ]
  },
  {
   "cell_type": "code",
   "execution_count": 4,
   "metadata": {},
   "outputs": [],
   "source": [
    "count_empty_total()"
   ]
  },
  {
   "cell_type": "code",
   "execution_count": 5,
   "metadata": {
    "scrolled": false
   },
   "outputs": [
    {
     "data": {
      "text/html": [
       "<ol class=list-inline>\n",
       "\t<li>'LotFrontage'</li>\n",
       "\t<li>'LotArea'</li>\n",
       "\t<li>'YearBuilt'</li>\n",
       "\t<li>'YearRemodAdd'</li>\n",
       "\t<li>'MasVnrArea'</li>\n",
       "\t<li>'BsmtFinSF1'</li>\n",
       "\t<li>'BsmtFinSF2'</li>\n",
       "\t<li>'BsmtUnfSF'</li>\n",
       "\t<li>'TotalBsmtSF'</li>\n",
       "\t<li>'FirstFlrSF'</li>\n",
       "\t<li>'SecondFlrSF'</li>\n",
       "\t<li>'LowQualFinSF'</li>\n",
       "\t<li>'GrLivArea'</li>\n",
       "\t<li>'GarageYrBlt'</li>\n",
       "\t<li>'GarageArea'</li>\n",
       "\t<li>'WoodDeckSF'</li>\n",
       "\t<li>'OpenPorchSF'</li>\n",
       "\t<li>'EnclosedPorch'</li>\n",
       "\t<li>'ThreeSsnPorch'</li>\n",
       "\t<li>'ScreenPorch'</li>\n",
       "\t<li>'PoolArea'</li>\n",
       "\t<li>'MiscVal'</li>\n",
       "\t<li>'YrSold'</li>\n",
       "\t<li>'SalePrice'</li>\n",
       "</ol>\n"
      ],
      "text/latex": [
       "\\begin{enumerate*}\n",
       "\\item 'LotFrontage'\n",
       "\\item 'LotArea'\n",
       "\\item 'YearBuilt'\n",
       "\\item 'YearRemodAdd'\n",
       "\\item 'MasVnrArea'\n",
       "\\item 'BsmtFinSF1'\n",
       "\\item 'BsmtFinSF2'\n",
       "\\item 'BsmtUnfSF'\n",
       "\\item 'TotalBsmtSF'\n",
       "\\item 'FirstFlrSF'\n",
       "\\item 'SecondFlrSF'\n",
       "\\item 'LowQualFinSF'\n",
       "\\item 'GrLivArea'\n",
       "\\item 'GarageYrBlt'\n",
       "\\item 'GarageArea'\n",
       "\\item 'WoodDeckSF'\n",
       "\\item 'OpenPorchSF'\n",
       "\\item 'EnclosedPorch'\n",
       "\\item 'ThreeSsnPorch'\n",
       "\\item 'ScreenPorch'\n",
       "\\item 'PoolArea'\n",
       "\\item 'MiscVal'\n",
       "\\item 'YrSold'\n",
       "\\item 'SalePrice'\n",
       "\\end{enumerate*}\n"
      ],
      "text/markdown": [
       "1. 'LotFrontage'\n",
       "2. 'LotArea'\n",
       "3. 'YearBuilt'\n",
       "4. 'YearRemodAdd'\n",
       "5. 'MasVnrArea'\n",
       "6. 'BsmtFinSF1'\n",
       "7. 'BsmtFinSF2'\n",
       "8. 'BsmtUnfSF'\n",
       "9. 'TotalBsmtSF'\n",
       "10. 'FirstFlrSF'\n",
       "11. 'SecondFlrSF'\n",
       "12. 'LowQualFinSF'\n",
       "13. 'GrLivArea'\n",
       "14. 'GarageYrBlt'\n",
       "15. 'GarageArea'\n",
       "16. 'WoodDeckSF'\n",
       "17. 'OpenPorchSF'\n",
       "18. 'EnclosedPorch'\n",
       "19. 'ThreeSsnPorch'\n",
       "20. 'ScreenPorch'\n",
       "21. 'PoolArea'\n",
       "22. 'MiscVal'\n",
       "23. 'YrSold'\n",
       "24. 'SalePrice'\n",
       "\n",
       "\n"
      ],
      "text/plain": [
       " [1] \"LotFrontage\"   \"LotArea\"       \"YearBuilt\"     \"YearRemodAdd\" \n",
       " [5] \"MasVnrArea\"    \"BsmtFinSF1\"    \"BsmtFinSF2\"    \"BsmtUnfSF\"    \n",
       " [9] \"TotalBsmtSF\"   \"FirstFlrSF\"    \"SecondFlrSF\"   \"LowQualFinSF\" \n",
       "[13] \"GrLivArea\"     \"GarageYrBlt\"   \"GarageArea\"    \"WoodDeckSF\"   \n",
       "[17] \"OpenPorchSF\"   \"EnclosedPorch\" \"ThreeSsnPorch\" \"ScreenPorch\"  \n",
       "[21] \"PoolArea\"      \"MiscVal\"       \"YrSold\"        \"SalePrice\"    "
      ]
     },
     "metadata": {},
     "output_type": "display_data"
    }
   ],
   "source": [
    "numeric_features = colnames(Filter(is.numeric, housing_df))\n",
    "numeric_features"
   ]
  },
  {
   "cell_type": "code",
   "execution_count": 6,
   "metadata": {},
   "outputs": [],
   "source": [
    "numeric_df = Filter(is.numeric, housing_df)\n",
    "numeric_df$SalePrice <- NULL\n",
    "numeric_features = colnames(numeric_df)"
   ]
  },
  {
   "cell_type": "code",
   "execution_count": 7,
   "metadata": {},
   "outputs": [],
   "source": [
    "attach(numeric_df)"
   ]
  },
  {
   "cell_type": "code",
   "execution_count": 8,
   "metadata": {},
   "outputs": [
    {
     "name": "stderr",
     "output_type": "stream",
     "text": [
      "Updating HTML index of packages in '.Library'\n",
      "Making 'packages.html' ... done\n"
     ]
    }
   ],
   "source": [
    "install.packages('rpart')"
   ]
  },
  {
   "cell_type": "code",
   "execution_count": null,
   "metadata": {},
   "outputs": [
    {
     "name": "stderr",
     "output_type": "stream",
     "text": [
      "Loading required package: lattice\n"
     ]
    }
   ],
   "source": [
    "library(caret)\n",
    "library(rpart)"
   ]
  },
  {
   "cell_type": "markdown",
   "metadata": {},
   "source": [
    "## Redundancy"
   ]
  },
  {
   "cell_type": "code",
   "execution_count": null,
   "metadata": {},
   "outputs": [],
   "source": [
    "calculate_r_2 <- function(actual, prediction) {\n",
    "    return (1 - (sum((actual-prediction)^2)/sum((actual-mean(actual))^2)))\n",
    "}\n",
    "\n",
    "calculate_r_2_for_feature <- function(data, feature) {\n",
    "    n <- nrow(data)\n",
    "    \n",
    "    train_index <- sample(seq_len(n), size = 0.8*n)\n",
    "\n",
    "    train <- data[train_index,]\n",
    "    test <- data[-train_index,]\n",
    "    \n",
    "    this_formula = paste(feature,\"~.\")\n",
    "    fit <- rpart(data=train, formula=as.formula(this_formula))\n",
    "\n",
    "    y_test <- as.vector(test[[feature]])\n",
    "    test[feature] <- NULL\n",
    "    predictions <- predict(fit, test)\n",
    "    return (calculate_r_2(y_test, predictions))\n",
    "}\n",
    "\n",
    "mean_r2_for_feature <- function (data, feature) {\n",
    "    scores = c()\n",
    "    for (i in 1:10) {\n",
    "        scores = c(scores, calculate_r_2_for_feature(data, feature))\n",
    "    }\n",
    "    \n",
    "    return (mean(scores))\n",
    "}"
   ]
  },
  {
   "cell_type": "code",
   "execution_count": null,
   "metadata": {},
   "outputs": [],
   "source": [
    "calculate_r_2_for_feature(numeric_df,'LotFrontage')"
   ]
  },
  {
   "cell_type": "code",
   "execution_count": null,
   "metadata": {},
   "outputs": [],
   "source": [
    "for (feature in numeric_features){\n",
    "    print(paste(feature, mean_r2_for_feature(numeric_df, feature)))\n",
    "}"
   ]
  },
  {
   "cell_type": "markdown",
   "metadata": {},
   "source": [
    "## Correlation"
   ]
  },
  {
   "cell_type": "code",
   "execution_count": null,
   "metadata": {},
   "outputs": [],
   "source": [
    "options(digits=3)\n",
    "cor(numeric_df)"
   ]
  },
  {
   "cell_type": "code",
   "execution_count": null,
   "metadata": {},
   "outputs": [],
   "source": [
    "library(reshape2)\n",
    "cormat = cor(numeric_df)\n",
    "\n",
    "cormat[lower.tri(cormat)] <- NA\n",
    "diag(cormat) <- NA\n",
    "\n",
    "melted_cormat <- melt(cormat, na.rm = T)\n",
    "\n",
    "library(ggplot2)\n",
    "ggplot(data = melted_cormat, aes(Var2, Var1, fill = value))+\n",
    " geom_tile(color = \"white\")+\n",
    " scale_fill_gradient2(low = \"blue\", high = \"red\", mid = \"white\", \n",
    "   midpoint = 0, limit = c(-1,1), space = \"Lab\", \n",
    "   name=\"Pearson\\nCorrelation\") +\n",
    "  theme_minimal()+ \n",
    " theme(axis.text.x = element_text(angle = 45, vjust = 1, \n",
    "    size = 12, hjust = 1))+\n",
    " coord_fixed()"
   ]
  },
  {
   "cell_type": "code",
   "execution_count": null,
   "metadata": {},
   "outputs": [],
   "source": []
  }
 ],
 "metadata": {
  "kernelspec": {
   "display_name": "R",
   "language": "R",
   "name": "ir"
  },
  "language_info": {
   "codemirror_mode": "r",
   "file_extension": ".r",
   "mimetype": "text/x-r-source",
   "name": "R",
   "pygments_lexer": "r",
   "version": "3.3.2"
  }
 },
 "nbformat": 4,
 "nbformat_minor": 2
}
